{
  "nbformat": 4,
  "nbformat_minor": 0,
  "metadata": {
    "colab": {
      "provenance": [],
      "collapsed_sections": []
    },
    "kernelspec": {
      "name": "python3",
      "display_name": "Python 3"
    },
    "language_info": {
      "name": "python"
    }
  },
  "cells": [
    {
      "cell_type": "code",
      "source": [
        "!pip install ufal.udpipe\n",
        "!pip install wget"
      ],
      "metadata": {
        "colab": {
          "base_uri": "https://localhost:8080/"
        },
        "id": "i-Q_WOONlWhD",
        "outputId": "fd8e4bb1-7a78-4b21-8f04-ae4fc6389ad7"
      },
      "execution_count": 1,
      "outputs": [
        {
          "output_type": "stream",
          "name": "stdout",
          "text": [
            "Looking in indexes: https://pypi.org/simple, https://us-python.pkg.dev/colab-wheels/public/simple/\n",
            "Collecting ufal.udpipe\n",
            "  Downloading ufal.udpipe-1.2.0.3.tar.gz (304 kB)\n",
            "\u001b[K     |████████████████████████████████| 304 kB 13.2 MB/s \n",
            "\u001b[?25hBuilding wheels for collected packages: ufal.udpipe\n",
            "  Building wheel for ufal.udpipe (setup.py) ... \u001b[?25l\u001b[?25hdone\n",
            "  Created wheel for ufal.udpipe: filename=ufal.udpipe-1.2.0.3-cp37-cp37m-linux_x86_64.whl size=5626656 sha256=24dacf749fe76116b74f8428aa0c28b293e3ed77ddd3c6b4fd21d5be22483224\n",
            "  Stored in directory: /root/.cache/pip/wheels/b8/b5/8e/3da091629a21ce2d10bf90759d0cb034ba10a5cf7a01e83d64\n",
            "Successfully built ufal.udpipe\n",
            "Installing collected packages: ufal.udpipe\n",
            "Successfully installed ufal.udpipe-1.2.0.3\n",
            "Looking in indexes: https://pypi.org/simple, https://us-python.pkg.dev/colab-wheels/public/simple/\n",
            "Collecting wget\n",
            "  Downloading wget-3.2.zip (10 kB)\n",
            "Building wheels for collected packages: wget\n",
            "  Building wheel for wget (setup.py) ... \u001b[?25l\u001b[?25hdone\n",
            "  Created wheel for wget: filename=wget-3.2-py3-none-any.whl size=9675 sha256=62ad468a6acdd56dc7aef8a0ad32d54e2f55069769910b0bea4157740198244d\n",
            "  Stored in directory: /root/.cache/pip/wheels/a1/b6/7c/0e63e34eb06634181c63adacca38b79ff8f35c37e3c13e3c02\n",
            "Successfully built wget\n",
            "Installing collected packages: wget\n",
            "Successfully installed wget-3.2\n"
          ]
        }
      ]
    },
    {
      "cell_type": "code",
      "execution_count": 2,
      "metadata": {
        "id": "cJehp1HLlLRM"
      },
      "outputs": [],
      "source": [
        "import wget\n",
        "import sys\n",
        "\n",
        "udpipe_url = 'https://rusvectores.org/static/models/udpipe_syntagrus.model'\n",
        "text_url = 'https://rusvectores.org/static/henry_sobolya.txt'\n",
        "\n",
        "modelfile = wget.download(udpipe_url)\n",
        "textfile = wget.download(text_url)"
      ]
    },
    {
      "cell_type": "code",
      "source": [
        "def process(pipeline, text='Строка', keep_pos=True, keep_punct=False):\n",
        "    entities = {'PROPN'}\n",
        "    named = False\n",
        "    memory = []\n",
        "    mem_case = None\n",
        "    mem_number = None\n",
        "    tagged_propn = []\n",
        "\n",
        "    # обрабатываем текст, получаем результат в формате conllu:\n",
        "    processed = pipeline.process(text)\n",
        "\n",
        "    # пропускаем строки со служебной информацией:\n",
        "    content = [l for l in processed.split('\\n') if not l.startswith('#')]\n",
        "\n",
        "    # извлекаем из обработанного текста леммы, тэги и морфологические характеристики\n",
        "    tagged = [w.split('\\t') for w in content if w]\n",
        "\n",
        "    for t in tagged:\n",
        "        if len(t) != 10:\n",
        "            continue\n",
        "        (word_id, token, lemma, pos, xpos, feats, head, deprel, deps, misc) = t\n",
        "        if not lemma or not token:\n",
        "            continue\n",
        "        if pos in entities:\n",
        "            if '|' not in feats:\n",
        "                tagged_propn.append('%s_%s' % (lemma, pos))\n",
        "                continue\n",
        "            morph = {el.split('=')[0]: el.split('=')[1] for el in feats.split('|')}\n",
        "            if 'Case' not in morph or 'Number' not in morph:\n",
        "                tagged_propn.append('%s_%s' % (lemma, pos))\n",
        "                continue\n",
        "            if not named:\n",
        "                named = True\n",
        "                mem_case = morph['Case']\n",
        "                mem_number = morph['Number']\n",
        "            if morph['Case'] == mem_case and morph['Number'] == mem_number:\n",
        "                memory.append(lemma)\n",
        "                if 'SpacesAfter=\\\\n' in misc or 'SpacesAfter=\\s\\\\n' in misc:\n",
        "                    named = False\n",
        "                    past_lemma = '::'.join(memory)\n",
        "                    memory = []\n",
        "                    tagged_propn.append(past_lemma + '_PROPN ')\n",
        "            else:\n",
        "                named = False\n",
        "                past_lemma = '::'.join(memory)\n",
        "                memory = []\n",
        "                tagged_propn.append(past_lemma + '_PROPN ')\n",
        "                tagged_propn.append('%s_%s' % (lemma, pos))\n",
        "        else:\n",
        "            if not named:\n",
        "                if pos == 'NUM' and token.isdigit():  # Заменяем числа на xxxxx той же длины\n",
        "                    lemma = num_replace(token)\n",
        "                tagged_propn.append('%s_%s' % (lemma, pos))\n",
        "            else:\n",
        "                named = False\n",
        "                past_lemma = '::'.join(memory)\n",
        "                memory = []\n",
        "                tagged_propn.append(past_lemma + '_PROPN ')\n",
        "                tagged_propn.append('%s_%s' % (lemma, pos))\n",
        "\n",
        "    if not keep_punct:\n",
        "        tagged_propn = [word for word in tagged_propn if word.split('_')[1] != 'PUNCT']\n",
        "    if not keep_pos:\n",
        "        tagged_propn = [word.split('_')[0] for word in tagged_propn]\n",
        "    return tagged_propn"
      ],
      "metadata": {
        "id": "Y-ksoEdwl4pS"
      },
      "execution_count": 3,
      "outputs": []
    },
    {
      "cell_type": "code",
      "source": [
        "from ufal.udpipe import Model, Pipeline\n",
        "import os\n",
        "import re\n",
        "\n",
        "def tag_ud(text='Текст нужно передать функции в виде строки!', modelfile='udpipe_syntagrus.model'):\n",
        "    udpipe_model_url = 'https://rusvectores.org/static/models/udpipe_syntagrus.model'\n",
        "    udpipe_filename = udpipe_model_url.split('/')[-1]\n",
        "\n",
        "    if not os.path.isfile(modelfile):\n",
        "        print('UDPipe model not found. Downloading...', file=sys.stderr)\n",
        "        wget.download(udpipe_model_url)\n",
        "\n",
        "    print('\\nLoading the model...', file=sys.stderr)\n",
        "    model = Model.load(modelfile)\n",
        "    process_pipeline = Pipeline(model, 'tokenize', Pipeline.DEFAULT, Pipeline.DEFAULT, 'conllu')\n",
        "\n",
        "    print('Processing input...', file=sys.stderr)\n",
        "    lines = text.split('\\n')\n",
        "    tagged = []\n",
        "    for line in lines:\n",
        "        # line = unify_sym(line.strip()) # здесь могла бы быть ваша функция очистки текста\n",
        "        output = process(process_pipeline, text=line)\n",
        "        tagged_line = ' '.join(output)\n",
        "        tagged.append(tagged_line)\n",
        "    return '\\n'.join(tagged)"
      ],
      "metadata": {
        "id": "DBwCdPWml_MA"
      },
      "execution_count": 4,
      "outputs": []
    },
    {
      "cell_type": "code",
      "source": [
        "text = open(textfile, 'r', encoding='utf-8').read()\n",
        "processed_text = tag_ud(text=text, modelfile=modelfile)\n",
        "print(processed_text[:350])\n",
        "with open('my_text.txt', 'w', encoding='utf-8') as out:\n",
        "    out.write(processed_text)"
      ],
      "metadata": {
        "colab": {
          "base_uri": "https://localhost:8080/"
        },
        "id": "EU6177jRy7Bm",
        "outputId": "66bdf2cf-377e-4116-8621-f16081914c32"
      },
      "execution_count": 11,
      "outputs": [
        {
          "output_type": "stream",
          "name": "stderr",
          "text": [
            "\n",
            "Loading the model...\n",
            "Processing input...\n"
          ]
        },
        {
          "output_type": "stream",
          "name": "stdout",
          "text": [
            "русский_PROPN  соболь_NOUN о.::генри_PROPN \n",
            "когда_SCONJ синий_ADJ как_SCONJ ночь_NOUN глаз_NOUN Молли_VERB Мак-Кивер_PROPN  класть_VERB малыш::Брэди_PROPN  на_ADP оба_NUM лопатка_NOUN он_PRON вынужденный_ADJ быть_AUX покидать_VERB ряд_NOUN банда_NOUN «Дымовый_ADJ труба»_NOUN таков_ADJ власть_NOUN нежный_ADJ укор_NOUN подружка_NOUN и_CCONJ она_PRON \n"
          ]
        }
      ]
    },
    {
      "cell_type": "code",
      "source": [
        "!pip install gensim\n",
        "!pip install gensim --upgrade\n"
      ],
      "metadata": {
        "id": "QOjAdKBGyi8m",
        "colab": {
          "base_uri": "https://localhost:8080/"
        },
        "outputId": "ec49b588-c81f-47a7-9bc1-0227e5fae54f"
      },
      "execution_count": 12,
      "outputs": [
        {
          "output_type": "stream",
          "name": "stdout",
          "text": [
            "Looking in indexes: https://pypi.org/simple, https://us-python.pkg.dev/colab-wheels/public/simple/\n",
            "Requirement already satisfied: gensim in /usr/local/lib/python3.7/dist-packages (4.2.0)\n",
            "Requirement already satisfied: scipy>=0.18.1 in /usr/local/lib/python3.7/dist-packages (from gensim) (1.7.3)\n",
            "Requirement already satisfied: smart-open>=1.8.1 in /usr/local/lib/python3.7/dist-packages (from gensim) (5.2.1)\n",
            "Requirement already satisfied: numpy>=1.17.0 in /usr/local/lib/python3.7/dist-packages (from gensim) (1.21.6)\n",
            "Looking in indexes: https://pypi.org/simple, https://us-python.pkg.dev/colab-wheels/public/simple/\n",
            "Requirement already satisfied: gensim in /usr/local/lib/python3.7/dist-packages (4.2.0)\n",
            "Requirement already satisfied: numpy>=1.17.0 in /usr/local/lib/python3.7/dist-packages (from gensim) (1.21.6)\n",
            "Requirement already satisfied: smart-open>=1.8.1 in /usr/local/lib/python3.7/dist-packages (from gensim) (5.2.1)\n",
            "Requirement already satisfied: scipy>=0.18.1 in /usr/local/lib/python3.7/dist-packages (from gensim) (1.7.3)\n"
          ]
        }
      ]
    },
    {
      "cell_type": "code",
      "source": [
        "import sys\n",
        "import gensim, logging\n",
        "\n",
        "logging.basicConfig(format='%(asctime)s : %(levelname)s : %(message)s', level=logging.INFO)"
      ],
      "metadata": {
        "id": "n8Zbbbrxyqt-"
      },
      "execution_count": 13,
      "outputs": []
    },
    {
      "cell_type": "code",
      "source": [
        "f = 'my_text.txt'\n",
        "data = gensim.models.word2vec.LineSentence(f)"
      ],
      "metadata": {
        "id": "nCOMp2vw1E2t"
      },
      "execution_count": 19,
      "outputs": []
    },
    {
      "cell_type": "code",
      "source": [
        "#model = gensim.models.Word2Vec(data, size=500, window=10, min_count=2, sg=0)\n",
        "model = gensim.models.Word2Vec(data,vector_size=100, window=5, min_count=1, workers=4)"
      ],
      "metadata": {
        "id": "yGnDfD6i1IYE"
      },
      "execution_count": 20,
      "outputs": []
    },
    {
      "cell_type": "code",
      "source": [
        "model.init_sims(replace=True)"
      ],
      "metadata": {
        "id": "U93aGpO-1ZF8",
        "colab": {
          "base_uri": "https://localhost:8080/"
        },
        "outputId": "db4f01b1-bed8-49a2-ae24-4bf46b920d3d"
      },
      "execution_count": 21,
      "outputs": [
        {
          "output_type": "stream",
          "name": "stderr",
          "text": [
            "/usr/local/lib/python3.7/dist-packages/ipykernel_launcher.py:1: DeprecationWarning: Call to deprecated `init_sims` (Gensim 4.0.0 implemented internal optimizations that make calls to init_sims() unnecessary. init_sims() is now obsoleted and will be completely removed in future versions. See https://github.com/RaRe-Technologies/gensim/wiki/Migrating-from-Gensim-3.x-to-4).\n",
            "  \"\"\"Entry point for launching an IPython kernel.\n",
            "WARNING:gensim.models.keyedvectors:destructive init_sims(replace=True) deprecated & no longer required for space-efficiency\n"
          ]
        }
      ]
    },
    {
      "cell_type": "code",
      "source": [
        "print(len(model.wv.vocab))"
      ],
      "metadata": {
        "colab": {
          "base_uri": "https://localhost:8080/",
          "height": 322
        },
        "id": "9bNB8K6Q1dSM",
        "outputId": "061da673-36dd-40d5-d4b0-31a533912d85"
      },
      "execution_count": 22,
      "outputs": [
        {
          "output_type": "error",
          "ename": "AttributeError",
          "evalue": "ignored",
          "traceback": [
            "\u001b[0;31m---------------------------------------------------------------------------\u001b[0m",
            "\u001b[0;31mAttributeError\u001b[0m                            Traceback (most recent call last)",
            "\u001b[0;32m<ipython-input-22-5bbac5503ab2>\u001b[0m in \u001b[0;36m<module>\u001b[0;34m\u001b[0m\n\u001b[0;32m----> 1\u001b[0;31m \u001b[0mprint\u001b[0m\u001b[0;34m(\u001b[0m\u001b[0mlen\u001b[0m\u001b[0;34m(\u001b[0m\u001b[0mmodel\u001b[0m\u001b[0;34m.\u001b[0m\u001b[0mwv\u001b[0m\u001b[0;34m.\u001b[0m\u001b[0mvocab\u001b[0m\u001b[0;34m)\u001b[0m\u001b[0;34m)\u001b[0m\u001b[0;34m\u001b[0m\u001b[0;34m\u001b[0m\u001b[0m\n\u001b[0m",
            "\u001b[0;32m/usr/local/lib/python3.7/dist-packages/gensim/models/keyedvectors.py\u001b[0m in \u001b[0;36mvocab\u001b[0;34m(self)\u001b[0m\n\u001b[1;32m    734\u001b[0m     \u001b[0;32mdef\u001b[0m \u001b[0mvocab\u001b[0m\u001b[0;34m(\u001b[0m\u001b[0mself\u001b[0m\u001b[0;34m)\u001b[0m\u001b[0;34m:\u001b[0m\u001b[0;34m\u001b[0m\u001b[0;34m\u001b[0m\u001b[0m\n\u001b[1;32m    735\u001b[0m         raise AttributeError(\n\u001b[0;32m--> 736\u001b[0;31m             \u001b[0;34m\"The vocab attribute was removed from KeyedVector in Gensim 4.0.0.\\n\"\u001b[0m\u001b[0;34m\u001b[0m\u001b[0;34m\u001b[0m\u001b[0m\n\u001b[0m\u001b[1;32m    737\u001b[0m             \u001b[0;34m\"Use KeyedVector's .key_to_index dict, .index_to_key list, and methods \"\u001b[0m\u001b[0;34m\u001b[0m\u001b[0;34m\u001b[0m\u001b[0m\n\u001b[1;32m    738\u001b[0m             \u001b[0;34m\".get_vecattr(key, attr) and .set_vecattr(key, attr, new_val) instead.\\n\"\u001b[0m\u001b[0;34m\u001b[0m\u001b[0;34m\u001b[0m\u001b[0m\n",
            "\u001b[0;31mAttributeError\u001b[0m: The vocab attribute was removed from KeyedVector in Gensim 4.0.0.\nUse KeyedVector's .key_to_index dict, .index_to_key list, and methods .get_vecattr(key, attr) and .set_vecattr(key, attr, new_val) instead.\nSee https://github.com/RaRe-Technologies/gensim/wiki/Migrating-from-Gensim-3.x-to-4"
          ]
        }
      ]
    },
    {
      "cell_type": "code",
      "source": [
        "model.save('my.model')"
      ],
      "metadata": {
        "id": "83jMURTD1dck"
      },
      "execution_count": 23,
      "outputs": []
    },
    {
      "cell_type": "code",
      "source": [
        "import zipfile\n",
        "model_url = 'http://vectors.nlpl.eu/repository/20/180.zip'\n",
        "m = wget.download(model_url)\n",
        "model_file = model_url.split('/')[-1]\n",
        "with zipfile.ZipFile(model_file, 'r') as archive:\n",
        "   stream = archive.open('model.bin')\n",
        "   model = gensim.models.KeyedVectors.load_word2vec_format(stream, binary=True)"
      ],
      "metadata": {
        "id": "HkGyTb2P1pFL"
      },
      "execution_count": 24,
      "outputs": []
    },
    {
      "cell_type": "code",
      "source": [
        "words = ['день_NOUN', 'ночь_NOUN', 'человек_NOUN', 'семантика_NOUN', 'студент_NOUN', 'студент_ADJ']"
      ],
      "metadata": {
        "id": "VvxgiGln2Dk1"
      },
      "execution_count": 25,
      "outputs": []
    },
    {
      "cell_type": "code",
      "source": [
        "for word in words:\n",
        "   # есть ли слово в модели? Может быть, и нет\n",
        "   if word in model:\n",
        "       print(word)\n",
        "       # выдаем 10 ближайших соседей слова:\n",
        "       for i in model.most_similar(positive=[word], topn=10):\n",
        "           # слово + коэффициент косинусной близости\n",
        "           print(i[0], i[1])\n",
        "       print('\\n')\n",
        "   else:\n",
        "       # Увы!\n",
        "       print(word + ' is not present in the model')"
      ],
      "metadata": {
        "colab": {
          "base_uri": "https://localhost:8080/"
        },
        "id": "drQ1wKTy2OLV",
        "outputId": "4c54ff6e-3f06-41e5-b85b-c631dfd5d665"
      },
      "execution_count": 26,
      "outputs": [
        {
          "output_type": "stream",
          "name": "stdout",
          "text": [
            "день_NOUN\n",
            "неделя_NOUN 0.7375996112823486\n",
            "день_PROPN 0.706766664981842\n",
            "месяц_NOUN 0.7037326097488403\n",
            "час_NOUN 0.6643950939178467\n",
            "утро_NOUN 0.6526744961738586\n",
            "вечер_NOUN 0.6038411259651184\n",
            "сутки_NOUN 0.5923080444335938\n",
            "воскресенье_NOUN 0.5842781066894531\n",
            "полдень_NOUN 0.5743688344955444\n",
            "суббота_NOUN 0.5345946550369263\n",
            "\n",
            "\n",
            "ночь_NOUN\n",
            "ночь_PROPN 0.8310787081718445\n",
            "вечер_NOUN 0.7183678150177002\n",
            "рассвет_NOUN 0.6965947151184082\n",
            "ночи_NOUN 0.692021906375885\n",
            "полночь_NOUN 0.6704976558685303\n",
            "ночь_VERB 0.6615265011787415\n",
            "утро_NOUN 0.6263936161994934\n",
            "ночной_ADJ 0.6024709343910217\n",
            "полдень_NOUN 0.5835085511207581\n",
            "сумерки_NOUN 0.5671443939208984\n",
            "\n",
            "\n",
            "человек_NOUN\n",
            "человек_PROPN 0.7850059270858765\n",
            "человеческий_ADJ 0.5915265679359436\n",
            "существо_NOUN 0.5736929774284363\n",
            "народ_NOUN 0.5354466438293457\n",
            "личность_NOUN 0.5296981930732727\n",
            "человечество_NOUN 0.5282931327819824\n",
            "человкъ_PROPN 0.5047001242637634\n",
            "индивидуум_NOUN 0.5000404119491577\n",
            "нравственный_ADJ 0.4972919225692749\n",
            "потому_ADV 0.49293625354766846\n",
            "\n",
            "\n",
            "семантика_NOUN\n",
            "семантический_ADJ 0.8019332885742188\n",
            "синтаксический_ADJ 0.7569340467453003\n",
            "модальный_ADJ 0.7296056747436523\n",
            "семантически_ADV 0.7209396958351135\n",
            "смысловой_ADJ 0.7159028053283691\n",
            "референция_NOUN 0.7135109305381775\n",
            "ноэтический_ADJ 0.7080267071723938\n",
            "языковой_ADJ 0.7067197561264038\n",
            "лингвистический_ADJ 0.692865788936615\n",
            "предикат_NOUN 0.6877546906471252\n",
            "\n",
            "\n",
            "студент_NOUN\n",
            "преподаватель_NOUN 0.6743764281272888\n",
            "студенческий_ADJ 0.6486333012580872\n",
            "университетский_ADJ 0.6442698836326599\n",
            "заочник_NOUN 0.6423174142837524\n",
            "первокурсник_NOUN 0.640970766544342\n",
            "курсистка_NOUN 0.6364570260047913\n",
            "дипломник_NOUN 0.6341054439544678\n",
            "аспирант_NOUN 0.6337910890579224\n",
            "университет_NOUN 0.6302101016044617\n",
            "студентка_NOUN 0.6299037933349609\n",
            "\n",
            "\n",
            "студент_ADJ is not present in the model\n"
          ]
        }
      ]
    },
    {
      "cell_type": "code",
      "source": [
        "model.most_similar(positive=['студенческий_ADJ'], topn=10)"
      ],
      "metadata": {
        "colab": {
          "base_uri": "https://localhost:8080/"
        },
        "id": "EJcfcAVS2SXt",
        "outputId": "7fb2550c-fbbb-4cb7-e64c-725e1add1d35"
      },
      "execution_count": 27,
      "outputs": [
        {
          "output_type": "execute_result",
          "data": {
            "text/plain": [
              "[('университетский_ADJ', 0.6642225980758667),\n",
              " ('студент_NOUN', 0.6486333012580872),\n",
              " ('студенчество_NOUN', 0.6344770789146423),\n",
              " ('институтский_ADJ', 0.6142880320549011),\n",
              " ('гимназический_ADJ', 0.5510081648826599),\n",
              " ('аспирантский_ADJ', 0.5403808951377869),\n",
              " ('школьный_ADJ', 0.5198260545730591),\n",
              " ('студентский_ADJ', 0.500437319278717),\n",
              " ('ифли_PROPN', 0.48894086480140686),\n",
              " ('молодежный_ADJ', 0.4792458415031433)]"
            ]
          },
          "metadata": {},
          "execution_count": 27
        }
      ]
    },
    {
      "cell_type": "code",
      "source": [
        "print(model.similarity('искусство_NOUN', 'театр_NOUN'))"
      ],
      "metadata": {
        "colab": {
          "base_uri": "https://localhost:8080/"
        },
        "id": "1rik75u61KOU",
        "outputId": "782c3a34-2842-4348-d03b-272c4e45bd9b"
      },
      "execution_count": 28,
      "outputs": [
        {
          "output_type": "stream",
          "name": "stdout",
          "text": [
            "0.41525292\n"
          ]
        }
      ]
    },
    {
      "cell_type": "code",
      "source": [
        "print(model.similarity('сосна_NOUN', 'тайга_NOUN'))"
      ],
      "metadata": {
        "colab": {
          "base_uri": "https://localhost:8080/"
        },
        "id": "Lp_izy2NbOh8",
        "outputId": "c37ac92b-4c2a-43c8-8967-4eff2460ad17"
      },
      "execution_count": 29,
      "outputs": [
        {
          "output_type": "stream",
          "name": "stdout",
          "text": [
            "0.4646158\n"
          ]
        }
      ]
    },
    {
      "cell_type": "code",
      "source": [
        "print(model.similarity('готовить_VERB', 'рисовать_VERB'))"
      ],
      "metadata": {
        "colab": {
          "base_uri": "https://localhost:8080/"
        },
        "id": "YLpD5W4F47-1",
        "outputId": "aa541c20-c8dd-46aa-e5ae-4d19ce300d53"
      },
      "execution_count": 30,
      "outputs": [
        {
          "output_type": "stream",
          "name": "stdout",
          "text": [
            "0.22633684\n"
          ]
        }
      ]
    },
    {
      "cell_type": "code",
      "source": [
        "print(model.similarity('программировать_VERB', 'учиться_VERB'))"
      ],
      "metadata": {
        "colab": {
          "base_uri": "https://localhost:8080/"
        },
        "id": "fylL5eYg5G5z",
        "outputId": "8fccb735-7e77-45a9-98d7-902d42d74fca"
      },
      "execution_count": 31,
      "outputs": [
        {
          "output_type": "stream",
          "name": "stdout",
          "text": [
            "0.12188321\n"
          ]
        }
      ]
    },
    {
      "cell_type": "code",
      "source": [
        "print(model.similarity('смотреть_VERB', 'слушать_VERB'))"
      ],
      "metadata": {
        "colab": {
          "base_uri": "https://localhost:8080/"
        },
        "id": "2Ltb_a9A5Unl",
        "outputId": "b0b2240f-a6ec-43fe-a5dd-a659fe23f69e"
      },
      "execution_count": 32,
      "outputs": [
        {
          "output_type": "stream",
          "name": "stdout",
          "text": [
            "0.4513976\n"
          ]
        }
      ]
    },
    {
      "cell_type": "code",
      "source": [
        "print(model.similarity('смотреть_VERB', 'анализировать_VERB'))"
      ],
      "metadata": {
        "colab": {
          "base_uri": "https://localhost:8080/"
        },
        "id": "znDAYWRW5aGk",
        "outputId": "1e0c11a1-fbd4-4653-e5b0-49f05cfcb221"
      },
      "execution_count": 33,
      "outputs": [
        {
          "output_type": "stream",
          "name": "stdout",
          "text": [
            "0.11082313\n"
          ]
        }
      ]
    },
    {
      "cell_type": "code",
      "source": [
        "print(model.similarity('комментировать_VERB', 'анализировать_VERB'))"
      ],
      "metadata": {
        "colab": {
          "base_uri": "https://localhost:8080/"
        },
        "id": "u6dnCEEb5d5M",
        "outputId": "7a8c975c-7e51-4715-916a-080b5f15aeae"
      },
      "execution_count": 34,
      "outputs": [
        {
          "output_type": "stream",
          "name": "stdout",
          "text": [
            "0.42432678\n"
          ]
        }
      ]
    },
    {
      "cell_type": "code",
      "source": [
        "my_obj = [\n",
        "  {\n",
        "    \"name\": \"Наука\",\n",
        "    \"en\": \"science\",\n",
        "    \"ru\": \"наука_NOUN\",\n",
        "    \"id\" : 1\n",
        "  },\n",
        "  {\n",
        "    \"name\" : \"Физика\",\n",
        "    \"en\": \"physics\",\n",
        "    \"ru\": \"физика_NOUN\",\n",
        "    \"id\" : 2\n",
        "  },\n",
        "  {\n",
        "    \"name\" : \"Механика\",\n",
        "    \"en\": \"mechanics\",\n",
        "    \"ru\": \"механика_NOUN\",\n",
        "    \"id\" : 3\n",
        "  },\n",
        "  {\n",
        "    \"name\" : \"Оптика\",\n",
        "    \"en\": \"optics\",\n",
        "    \"ru\": \"оптика_NOUN\",\n",
        "    \"id\" : 4\n",
        "  },\n",
        "  {\n",
        "    \"name\" : \"Атомная физика\",\n",
        "    \"en\": \"nuclear\",\n",
        "    \"ru\": \"атом_NOUN\",\n",
        "    \"id\" : 5\n",
        "  },\n",
        "  {\n",
        "    \"name\" : \"Химия\",\n",
        "    \"en\": \"chemistry\",\n",
        "    \"ru\": \"химия_NOUN\",\n",
        "    \"id\" : 6\n",
        "  },\n",
        "  {\n",
        "    \"name\" : \"IT\",\n",
        "    \"en\": \"computer\",\n",
        "    \"ru\": \"компьютер_NOUN\",\n",
        "    \"id\" : 7\n",
        "  },\n",
        "  {\n",
        "    \"name\" : \"Техника\",\n",
        "    \"en\": \"technics\",\n",
        "    \"ru\": \"техника_NOUN\",\n",
        "    \"id\" : 8\n",
        "  },\n",
        "  {\n",
        "    \"name\" : \"Транспорт\",\n",
        "    \"en\": \"vehicles\",\n",
        "    \"ru\": \"транспорт_NOUN\",\n",
        "    \"id\" : 10\n",
        "  },\n",
        "  {\n",
        "    \"name\" : \"Биология\",\n",
        "    \"en\": \"biology\",\n",
        "    \"ru\": \"биология_NOUN\",\n",
        "    \"id\" : 9\n",
        "  },\n",
        "  {\n",
        "    \"name\" : \"Культура\",\n",
        "    \"en\": \"culture\",\n",
        "    \"ru\": \"культура_NOUN\",\n",
        "    \"id\" : 11\n",
        "  },\n",
        "  {\n",
        "    \"name\" : \"Путешествия\",\n",
        "    \"en\": \"travel\",\n",
        "    \"ru\": \"путешествие_NOUN\",\n",
        "    \"id\" : 12\n",
        "  },\n",
        "  {\n",
        "    \"name\" : \"Красота и стиль\",\n",
        "    \"en\": \"beauty\",\n",
        "    \"ru\": \"красота_NOUN\",\n",
        "    \"id\" : 13\n",
        "  },\n",
        "  {\n",
        "    \"name\" : \"Литература\",\n",
        "    \"en\": \"literature\",\n",
        "    \"ru\": \"литература_NOUN\",\n",
        "    \"id\" : 14\n",
        "  },\n",
        "  {\n",
        "    \"name\" : \"История\",\n",
        "    \"en\": \"history\",\n",
        "    \"ru\": \"история_NOUN\",\n",
        "    \"id\" : 15\n",
        "  },\n",
        "  {\n",
        "    \"name\" : \"Спорт\",\n",
        "    \"en\": \"sport\",\n",
        "    \"ru\": \"спорт_NOUN\",\n",
        "    \"id\" : 16\n",
        "  },\n",
        "  {\n",
        "    \"name\" : \"Игровые виды спорта\",\n",
        "    \"en\": \"game\",\n",
        "    \"ru\": \"игра_NOUN\",\n",
        "    \"id\" : 17\n",
        "  },\n",
        "  {\n",
        "    \"name\" : \"Водные виды спорта\",\n",
        "    \"en\": \"watter\",\n",
        "    \"ru\": \"вода_NOUN\",\n",
        "    \"id\" : 18\n",
        "  },\n",
        "  {\n",
        "    \"name\" : \"Силовые виды спорта\",\n",
        "    \"en\": \"strong\",\n",
        "    \"ru\": \"сила_NOUN\",\n",
        "    \"id\" : 19\n",
        "  },\n",
        "  {\n",
        "    \"name\" : \"Скоростные виды спорта\",\n",
        "    \"en\": \"speed\",\n",
        "    \"ru\": \"скорость_NOUN\",\n",
        "    \"id\" : 20\n",
        "  },\n",
        "  {\n",
        "    \"name\" : \"Экстримальные виды спорта\",\n",
        "    \"en\": \"extreme\",\n",
        "    \"ru\": \"экстрим_NOUN\",\n",
        "    \"id\" : 21\n",
        "  },\n",
        "  {\n",
        "    \"name\" : \"Природа\",\n",
        "    \"en\": \"nature\",\n",
        "    \"ru\": \"природа_NOUN\",\n",
        "    \"id\" : 22\n",
        "  },\n",
        "  {\n",
        "    \"name\" : \"Растения\",\n",
        "    \"en\": \"plants\",\n",
        "    \"ru\": \"растение_NOUN\",\n",
        "    \"id\" : 23\n",
        "  },\n",
        "  {\n",
        "    \"name\" : \"Животные\",\n",
        "    \"en\": \"animals\",\n",
        "    \"ru\": \"животное_NOUN\",\n",
        "    \"id\" : 24\n",
        "  },\n",
        "  {\n",
        "    \"name\" : \"Промышленность\",\n",
        "    \"en\": \"industry\",\n",
        "    \"ru\": \"промышленность_NOUN\",\n",
        "    \"id\" : 25\n",
        "  },\n",
        "  {\n",
        "    \"name\" : \"Театр\",\n",
        "    \"en\": \"theatre\",\n",
        "    \"ru\": \"театр_NOUN\",\n",
        "    \"id\" : 26\n",
        "  },\n",
        "  {\n",
        "    \"name\" : \"Изобразительное искусство\",\n",
        "    \"en\": \"drawing\",\n",
        "    \"ru\": \"живопись_NOUN\",\n",
        "    \"id\" : 27\n",
        "  },\n",
        "  {\n",
        "    \"name\" : \"Экология\",\n",
        "    \"en\": \"ecology\",\n",
        "    \"ru\": \"экология_NOUN\",\n",
        "    \"id\" : 28\n",
        "  },\n",
        "  {\n",
        "    \"name\" : \"Кулинария\",\n",
        "    \"en\": \"cooking\",\n",
        "    \"ru\": \"кулинария_NOUN\",\n",
        "    \"id\" : 29\n",
        "  },\n",
        "  {\n",
        "    \"name\" : \"Сельское хозяйство\",\n",
        "    \"en\": \"agriculture\",\n",
        "    \"ru\": \"ферма_NOUN\",\n",
        "    \"id\" : 30\n",
        "  }\n",
        "]"
      ],
      "metadata": {
        "id": "T2ELNMvr6B8D"
      },
      "execution_count": 35,
      "outputs": []
    },
    {
      "cell_type": "code",
      "source": [
        "sims = {}\n",
        "for i in range(len(my_obj)):\n",
        "  sims[ my_obj[i][\"id\"] ] = {}\n",
        "  for j in range(len(my_obj)):\n",
        "    #if (i!=j):\n",
        "    similarity = model.similarity(my_obj[i][\"ru\"],my_obj[j][\"ru\"])\n",
        "      #print(my_obj[i][\"id\"],\" \",my_obj[j][\"id\"],\" similarity: \",similarity)\n",
        "    sims[ my_obj[i][\"id\"] ][ my_obj[j][\"id\"] ] = similarity\n",
        "\n",
        "print(sims)"
      ],
      "metadata": {
        "id": "12AQj4xX7TSM",
        "outputId": "7b29fd33-a732-4897-a7da-04ec4aa1072f",
        "colab": {
          "base_uri": "https://localhost:8080/"
        }
      },
      "execution_count": 36,
      "outputs": [
        {
          "output_type": "stream",
          "name": "stdout",
          "text": [
            "{1: {1: 1.0, 2: 0.58764815, 3: 0.38770643, 4: 0.31560177, 5: 0.28661126, 6: 0.5934481, 7: 0.12585382, 8: 0.41234085, 10: 0.060883194, 9: 0.5835238, 11: 0.51078004, 12: 0.06746661, 13: 0.16097689, 14: 0.5458134, 15: 0.45124763, 16: 0.29877037, 17: 0.1378778, 18: -0.07412772, 19: 0.3168469, 20: 0.086228736, 21: -0.010374344, 22: 0.45379546, 23: 0.27813253, 24: 0.28132042, 25: 0.36196136, 26: 0.121654354, 27: 0.36600143, 28: 0.35091722, 29: 0.24323474, 30: -0.048139486}, 2: {1: 0.58764815, 2: 1.0, 3: 0.5678631, 4: 0.5018071, 5: 0.45946503, 6: 0.67668563, 7: 0.24392152, 8: 0.31593117, 10: 0.003546161, 9: 0.61333483, 11: 0.24443063, 12: 0.10159264, 13: 0.021619715, 14: 0.33596995, 15: 0.2983287, 16: 0.2277565, 17: 0.105771676, 18: -6.667815e-05, 19: 0.14366087, 20: 0.28285974, 21: -0.016764108, 22: 0.26229766, 23: 0.18367285, 24: 0.08925478, 25: 0.19684327, 26: 0.08992757, 27: 0.2613998, 28: 0.27357346, 29: 0.18545361, 30: 0.01831445}, 3: {1: 0.38770643, 2: 0.5678631, 3: 1.0, 4: 0.5220153, 5: 0.2998423, 6: 0.43191308, 7: 0.26128834, 8: 0.4434968, 10: 0.18128762, 9: 0.35194612, 11: 0.07369586, 12: 0.014723773, 13: 0.049764212, 14: 0.07302836, 15: 0.14271769, 16: 0.10880961, 17: 0.11514116, 18: 0.076016106, 19: 0.15802702, 20: 0.3228075, 21: 0.020201162, 22: 0.25781107, 23: 0.11269111, 24: 0.124755196, 25: 0.1923842, 26: 0.021154234, 27: 0.21126394, 28: 0.12394384, 29: 0.12651603, 30: 0.115477815}, 4: {1: 0.31560177, 2: 0.5018071, 3: 0.5220153, 4: 1.0, 5: 0.24229264, 6: 0.39882827, 7: 0.33160636, 8: 0.39621013, 10: 0.05093048, 9: 0.26486364, 11: 0.100364484, 12: 0.039505247, 13: 0.16138962, 14: 0.15038623, 15: 0.09911168, 16: 0.09659627, 17: 0.1306395, 18: 0.05906859, 19: 0.048552413, 20: 0.31361085, 21: 0.06698034, 22: 0.19622444, 23: 0.19921818, 24: 0.1242807, 25: 0.14085032, 26: 0.011896499, 27: 0.27983072, 28: 0.13162091, 29: 0.18633579, 30: 0.036709826}, 5: {1: 0.28661126, 2: 0.45946503, 3: 0.2998423, 4: 0.24229264, 5: 1.0, 6: 0.36529726, 7: 0.20145449, 8: 0.14424221, 10: 0.058245275, 9: 0.26725495, 11: 0.14911817, 12: -0.023672082, 13: 0.07974968, 14: 0.09011617, 15: 0.12606126, 16: 0.002012544, 17: 0.13948427, 18: 0.16153544, 19: 0.27457738, 20: 0.36457554, 21: -0.05321407, 22: 0.33561713, 23: 0.32184535, 24: 0.2880904, 25: 0.18777642, 26: 0.006428778, 27: 0.09983005, 28: 0.06119919, 29: -0.06535137, 30: 0.046961192}, 6: {1: 0.5934481, 2: 0.67668563, 3: 0.43191308, 4: 0.39882827, 5: 0.36529726, 6: 1.0, 7: 0.1569175, 8: 0.3632496, 10: 0.065011956, 9: 0.5912749, 11: 0.24193375, 12: 0.09600557, 13: 0.054553904, 14: 0.33562857, 15: 0.28101674, 16: 0.2187126, 17: 0.044925787, 18: 0.0034235285, 19: 0.09046355, 20: 0.13189963, 21: -0.00703202, 22: 0.24715362, 23: 0.30893734, 24: 0.1622721, 25: 0.37925878, 26: 0.08152223, 27: 0.29296947, 28: 0.2971085, 29: 0.25962356, 30: 0.021332623}, 7: {1: 0.12585382, 2: 0.24392152, 3: 0.26128834, 4: 0.33160636, 5: 0.20145449, 6: 0.1569175, 7: 1.0, 8: 0.36356187, 10: 0.085371636, 9: 0.20402186, 11: 0.09165092, 12: -0.044622537, 13: -0.064110555, 14: 0.07543521, 15: 0.033807185, 16: 0.061191007, 17: 0.23618317, 18: -0.023244997, 19: 0.002085733, 20: 0.24827985, 21: 0.1676366, 22: 0.016441148, 23: 0.08840327, 24: 0.12019282, 25: 0.057357408, 26: -0.02546019, 27: 0.044710558, 28: 0.12017322, 29: 0.17933181, 30: 0.13176474}, 8: {1: 0.41234085, 2: 0.31593117, 3: 0.4434968, 4: 0.39621013, 5: 0.14424221, 6: 0.3632496, 7: 0.36356187, 8: 1.0, 10: 0.40799138, 9: 0.34829774, 11: 0.38239348, 12: -0.045883052, 13: 0.08228214, 14: 0.2585479, 15: 0.1310082, 16: 0.3399227, 17: 0.17420478, 18: -0.01776419, 19: 0.27071542, 20: 0.2878858, 21: 0.07662114, 22: 0.21490565, 23: 0.21703231, 24: 0.21884045, 25: 0.51891863, 26: 0.0984539, 27: 0.30468103, 28: 0.29526663, 29: 0.21695311, 30: 0.16422306}, 10: {1: 0.060883194, 2: 0.003546161, 3: 0.18128762, 4: 0.05093048, 5: 0.058245275, 6: 0.065011956, 7: 0.085371636, 8: 0.40799138, 10: 1.0, 9: 0.11202588, 11: 0.15715143, 12: 0.10590526, 13: -0.14181724, 14: -0.0029467589, 15: -0.057819724, 16: 0.26402852, 17: -0.074023604, 18: 0.09013671, 19: 0.119378015, 20: 0.23018129, 21: 0.11484602, 22: -0.033219613, 23: 0.12275938, 24: 0.13188037, 25: 0.44777942, 26: 0.1129314, 27: -0.021041807, 28: 0.37376592, 29: 0.017763663, 30: 0.16400175}, 9: {1: 0.5835238, 2: 0.61333483, 3: 0.35194612, 4: 0.26486364, 5: 0.26725495, 6: 0.5912749, 7: 0.20402186, 8: 0.34829774, 10: 0.11202588, 9: 1.0, 11: 0.30120927, 12: 0.032284148, 13: 0.021390371, 14: 0.29638413, 15: 0.3321528, 16: 0.26677525, 17: 0.06502949, 18: -0.00997945, 19: 0.15737562, 20: 0.11190322, 21: 0.0079128165, 22: 0.32033518, 23: 0.34291798, 24: 0.3338296, 25: 0.2261371, 26: 0.048942517, 27: 0.17302123, 28: 0.48994592, 29: 0.1609063, 30: 0.11421168}, 11: {1: 0.51078004, 2: 0.24443063, 3: 0.07369586, 4: 0.100364484, 5: 0.14911817, 6: 0.24193375, 7: 0.09165092, 8: 0.38239348, 10: 0.15715143, 9: 0.30120927, 11: 1.0, 12: -0.009516071, 13: 0.21264349, 14: 0.53240466, 15: 0.4152141, 16: 0.3718526, 17: 0.12701996, 18: -0.030452885, 19: 0.24424158, 20: 0.04878802, 21: 0.12769362, 22: 0.4103541, 23: 0.3380983, 24: 0.22682336, 25: 0.36354658, 26: 0.25340918, 27: 0.36098227, 28: 0.3627553, 29: 0.261942, 30: 0.07100922}, 12: {1: 0.06746661, 2: 0.10159264, 3: 0.014723773, 4: 0.039505247, 5: -0.023672082, 6: 0.09600557, 7: -0.044622537, 8: -0.045883052, 10: 0.10590526, 9: 0.032284148, 11: -0.009516071, 12: 0.99999994, 13: 0.06966653, 14: 0.07100065, 15: 0.20723064, 16: 0.11935518, 17: 0.096161574, 18: 0.0027594743, 19: -0.053123478, 20: 0.07893466, 21: 0.23201963, 22: 0.08524502, 23: 0.14194436, 24: 0.07830326, 25: -0.03403845, 26: 0.06067887, 27: 0.097316965, 28: 0.00094175787, 29: 0.07759012, 30: 0.038209237}, 13: {1: 0.16097689, 2: 0.021619715, 3: 0.049764212, 4: 0.16138962, 5: 0.07974968, 6: 0.054553904, 7: -0.064110555, 8: 0.08228214, 10: -0.14181724, 9: 0.021390371, 11: 0.21264349, 12: 0.06966653, 13: 1.0, 14: 0.15650508, 15: 0.10875704, 16: 0.06553594, 17: 0.13287434, 18: 0.05863362, 19: 0.23962332, 20: 0.008813502, 21: 0.1700198, 22: 0.562031, 23: 0.21884494, 24: 0.1653346, 25: -0.022678558, 26: 0.068376824, 27: 0.3901576, 28: 0.0071687675, 29: 0.23972316, 30: -0.012869805}, 14: {1: 0.5458134, 2: 0.33596995, 3: 0.07302836, 4: 0.15038623, 5: 0.09011617, 6: 0.33562857, 7: 0.07543521, 8: 0.2585479, 10: -0.0029467589, 9: 0.29638413, 11: 0.53240466, 12: 0.07100065, 13: 0.15650508, 14: 1.0, 15: 0.54734755, 16: 0.24511665, 17: 0.17572306, 18: -0.14472814, 19: 0.15932855, 20: 0.011438776, 21: 0.042983774, 22: 0.27391934, 23: 0.14592192, 24: 0.08204851, 25: 0.22624673, 26: 0.33102536, 27: 0.498499, 28: 0.095034905, 29: 0.32611263, 30: -0.12325767}, 15: {1: 0.45124763, 2: 0.2983287, 3: 0.14271769, 4: 0.09911168, 5: 0.12606126, 6: 0.28101674, 7: 0.033807185, 8: 0.1310082, 10: -0.057819724, 9: 0.3321528, 11: 0.4152141, 12: 0.20723064, 13: 0.10875704, 14: 0.54734755, 15: 1.0, 16: 0.10014815, 17: 0.1743246, 18: -0.1894364, 19: 0.10133865, 20: -0.03314327, 21: 0.047655102, 22: 0.27535877, 23: 0.08196144, 24: 0.08016099, 25: 0.08945552, 26: 0.14623533, 27: 0.29002273, 28: 0.121007055, 29: 0.16952556, 30: -0.13940537}, 16: {1: 0.29877037, 2: 0.2277565, 3: 0.10880961, 4: 0.09659627, 5: 0.002012544, 6: 0.2187126, 7: 0.061191007, 8: 0.3399227, 10: 0.26402852, 9: 0.26677525, 11: 0.3718526, 12: 0.11935518, 13: 0.06553594, 14: 0.24511665, 15: 0.10014815, 16: 1.0, 17: 0.29710403, 18: -0.041175462, 19: 0.076455146, 20: 0.113151036, 21: 0.38046473, 22: 0.059176352, 23: 0.20604171, 24: 0.11871677, 25: 0.2907344, 26: 0.24397282, 27: 0.20115846, 28: 0.2763937, 29: 0.2406259, 30: 0.08044828}, 17: {1: 0.1378778, 2: 0.105771676, 3: 0.11514116, 4: 0.1306395, 5: 0.13948427, 6: 0.044925787, 7: 0.23618317, 8: 0.17420478, 10: -0.074023604, 9: 0.06502949, 11: 0.12701996, 12: 0.096161574, 13: 0.13287434, 14: 0.17572306, 15: 0.1743246, 16: 0.29710403, 17: 1.0, 18: -0.04671102, 19: 0.13016747, 20: 0.095103614, 21: 0.27500185, 22: 0.1958726, 23: 0.061297946, 24: 0.119573444, 25: -0.02925079, 26: 0.21528189, 27: 0.1698989, 28: -0.0051878295, 29: 0.15187545, 30: -0.06818059}, 18: {1: -0.07412772, 2: -6.667815e-05, 3: 0.076016106, 4: 0.05906859, 5: 0.16153544, 6: 0.0034235285, 7: -0.023244997, 8: -0.01776419, 10: 0.09013671, 9: -0.00997945, 11: -0.030452885, 12: 0.0027594743, 13: 0.05863362, 14: -0.14472814, 15: -0.1894364, 16: -0.041175462, 17: -0.04671102, 18: 1.0, 19: 0.13407665, 20: 0.30399144, 21: 0.11468097, 22: 0.15821637, 23: 0.32947326, 24: 0.28156605, 25: 0.028866014, 26: -0.18348424, 27: -0.050019477, 28: 0.06099544, 29: -0.029160695, 30: 0.17826779}, 19: {1: 0.3168469, 2: 0.14366087, 3: 0.15802702, 4: 0.048552413, 5: 0.27457738, 6: 0.09046355, 7: 0.002085733, 8: 0.27071542, 10: 0.119378015, 9: 0.15737562, 11: 0.24424158, 12: -0.053123478, 13: 0.23962332, 14: 0.15932855, 15: 0.10133865, 16: 0.076455146, 17: 0.13016747, 18: 0.13407665, 19: 1.0, 20: 0.29661444, 21: 0.037155557, 22: 0.43199497, 23: 0.2011488, 24: 0.25614327, 25: 0.24923657, 26: -0.020461561, 27: 0.090743765, 28: 0.02706689, 29: -0.056615062, 30: -0.072456084}, 20: {1: 0.086228736, 2: 0.28285974, 3: 0.3228075, 4: 0.31361085, 5: 0.36457554, 6: 0.13189963, 7: 0.24827985, 8: 0.2878858, 10: 0.23018129, 9: 0.11190322, 11: 0.04878802, 12: 0.07893466, 13: 0.008813502, 14: 0.011438776, 15: -0.03314327, 16: 0.113151036, 17: 0.095103614, 18: 0.30399144, 19: 0.29661444, 20: 1.0, 21: 0.16436435, 22: 0.10821421, 23: 0.22805937, 24: 0.21709299, 25: 0.12922154, 26: -0.05270977, 27: 0.03472482, 28: 0.06926953, 29: -0.04545273, 30: 0.075276054}, 21: {1: -0.010374344, 2: -0.016764108, 3: 0.020201162, 4: 0.06698034, 5: -0.05321407, 6: -0.00703202, 7: 0.1676366, 8: 0.07662114, 10: 0.11484602, 9: 0.0079128165, 11: 0.12769362, 12: 0.23201963, 13: 0.1700198, 14: 0.042983774, 15: 0.047655102, 16: 0.38046473, 17: 0.27500185, 18: 0.11468097, 19: 0.037155557, 20: 0.16436435, 21: 0.99999994, 22: 0.106739484, 23: 0.10089173, 24: 0.07715263, 25: -0.038836148, 26: 0.10565782, 27: 0.044825763, 28: 0.12715618, 29: 0.28188032, 30: 0.03169519}, 22: {1: 0.45379546, 2: 0.26229766, 3: 0.25781107, 4: 0.19622444, 5: 0.33561713, 6: 0.24715362, 7: 0.016441148, 8: 0.21490565, 10: -0.033219613, 9: 0.32033518, 11: 0.4103541, 12: 0.08524502, 13: 0.562031, 14: 0.27391934, 15: 0.27535877, 16: 0.059176352, 17: 0.1958726, 18: 0.15821637, 19: 0.43199497, 20: 0.10821421, 21: 0.106739484, 22: 0.99999994, 23: 0.41385505, 24: 0.49709028, 25: 0.118975095, 26: -0.016465096, 27: 0.29299682, 28: 0.26859894, 29: 0.11838162, 30: 0.023855483}, 23: {1: 0.27813253, 2: 0.18367285, 3: 0.11269111, 4: 0.19921818, 5: 0.32184535, 6: 0.30893734, 7: 0.08840327, 8: 0.21703231, 10: 0.12275938, 9: 0.34291798, 11: 0.3380983, 12: 0.14194436, 13: 0.21884494, 14: 0.14592192, 15: 0.08196144, 16: 0.20604171, 17: 0.061297946, 18: 0.32947326, 19: 0.2011488, 20: 0.22805937, 21: 0.10089173, 22: 0.41385505, 23: 1.0, 24: 0.6001491, 25: 0.22743523, 26: -0.0031057647, 27: 0.18601811, 28: 0.28691986, 29: 0.12131198, 30: 0.21100014}, 24: {1: 0.28132042, 2: 0.08925478, 3: 0.124755196, 4: 0.1242807, 5: 0.2880904, 6: 0.1622721, 7: 0.12019282, 8: 0.21884045, 10: 0.13188037, 9: 0.3338296, 11: 0.22682336, 12: 0.07830326, 13: 0.1653346, 14: 0.08204851, 15: 0.08016099, 16: 0.11871677, 17: 0.119573444, 18: 0.28156605, 19: 0.25614327, 20: 0.21709299, 21: 0.07715263, 22: 0.49709028, 23: 0.6001491, 24: 1.0, 25: 0.1268549, 26: -0.05006374, 27: 0.1249049, 28: 0.29833713, 29: 0.09709112, 30: 0.20954613}, 25: {1: 0.36196136, 2: 0.19684327, 3: 0.1923842, 4: 0.14085032, 5: 0.18777642, 6: 0.37925878, 7: 0.057357408, 8: 0.51891863, 10: 0.44777942, 9: 0.2261371, 11: 0.36354658, 12: -0.03403845, 13: -0.022678558, 14: 0.22624673, 15: 0.08945552, 16: 0.2907344, 17: -0.02925079, 18: 0.028866014, 19: 0.24923657, 20: 0.12922154, 21: -0.038836148, 22: 0.118975095, 23: 0.22743523, 24: 0.1268549, 25: 1.0, 26: 0.097977765, 27: 0.12287205, 28: 0.28669757, 29: 0.11110061, 30: 0.18628131}, 26: {1: 0.121654354, 2: 0.08992757, 3: 0.021154234, 4: 0.011896499, 5: 0.006428778, 6: 0.08152223, 7: -0.02546019, 8: 0.0984539, 10: 0.1129314, 9: 0.048942517, 11: 0.25340918, 12: 0.06067887, 13: 0.068376824, 14: 0.33102536, 15: 0.14623533, 16: 0.24397282, 17: 0.21528189, 18: -0.18348424, 19: -0.020461561, 20: -0.05270977, 21: 0.10565782, 22: -0.016465096, 23: -0.0031057647, 24: -0.05006374, 25: 0.097977765, 26: 1.0, 27: 0.29307768, 28: 0.01432514, 29: 0.18486875, 30: 0.056496862}, 27: {1: 0.36600143, 2: 0.2613998, 3: 0.21126394, 4: 0.27983072, 5: 0.09983005, 6: 0.29296947, 7: 0.044710558, 8: 0.30468103, 10: -0.021041807, 9: 0.17302123, 11: 0.36098227, 12: 0.097316965, 13: 0.3901576, 14: 0.498499, 15: 0.29002273, 16: 0.20115846, 17: 0.1698989, 18: -0.050019477, 19: 0.090743765, 20: 0.03472482, 21: 0.044825763, 22: 0.29299682, 23: 0.18601811, 24: 0.1249049, 25: 0.12287205, 26: 0.29307768, 27: 1.0, 28: 0.014116839, 29: 0.30467835, 30: -0.047250174}, 28: {1: 0.35091722, 2: 0.27357346, 3: 0.12394384, 4: 0.13162091, 5: 0.06119919, 6: 0.2971085, 7: 0.12017322, 8: 0.29526663, 10: 0.37376592, 9: 0.48994592, 11: 0.3627553, 12: 0.00094175787, 13: 0.0071687675, 14: 0.095034905, 15: 0.121007055, 16: 0.2763937, 17: -0.0051878295, 18: 0.06099544, 19: 0.02706689, 20: 0.06926953, 21: 0.12715618, 22: 0.26859894, 23: 0.28691986, 24: 0.29833713, 25: 0.28669757, 26: 0.01432514, 27: 0.014116839, 28: 1.0, 29: 0.15248908, 30: 0.14761238}, 29: {1: 0.24323474, 2: 0.18545361, 3: 0.12651603, 4: 0.18633579, 5: -0.06535137, 6: 0.25962356, 7: 0.17933181, 8: 0.21695311, 10: 0.017763663, 9: 0.1609063, 11: 0.261942, 12: 0.07759012, 13: 0.23972316, 14: 0.32611263, 15: 0.16952556, 16: 0.2406259, 17: 0.15187545, 18: -0.029160695, 19: -0.056615062, 20: -0.04545273, 21: 0.28188032, 22: 0.11838162, 23: 0.12131198, 24: 0.09709112, 25: 0.11110061, 26: 0.18486875, 27: 0.30467835, 28: 0.15248908, 29: 1.0, 30: 0.096051365}, 30: {1: -0.048139486, 2: 0.01831445, 3: 0.115477815, 4: 0.036709826, 5: 0.046961192, 6: 0.021332623, 7: 0.13176474, 8: 0.16422306, 10: 0.16400175, 9: 0.11421168, 11: 0.07100922, 12: 0.038209237, 13: -0.012869805, 14: -0.12325767, 15: -0.13940537, 16: 0.08044828, 17: -0.06818059, 18: 0.17826779, 19: -0.072456084, 20: 0.075276054, 21: 0.03169519, 22: 0.023855483, 23: 0.21100014, 24: 0.20954613, 25: 0.18628131, 26: 0.056496862, 27: -0.047250174, 28: 0.14761238, 29: 0.096051365, 30: 1.0}}\n"
          ]
        }
      ]
    }
  ]
}